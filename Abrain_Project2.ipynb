{
  "nbformat": 4,
  "nbformat_minor": 0,
  "metadata": {
    "colab": {
      "provenance": []
    },
    "kernelspec": {
      "name": "python3",
      "display_name": "Python 3"
    },
    "language_info": {
      "name": "python"
    }
  },
  "cells": [
    {
      "cell_type": "markdown",
      "source": [
        "Imports"
      ],
      "metadata": {
        "id": "HlMBBLCjSAFJ"
      }
    },
    {
      "cell_type": "code",
      "execution_count": 21,
      "metadata": {
        "colab": {
          "base_uri": "https://localhost:8080/"
        },
        "id": "awwtaiYgI2gy",
        "outputId": "5e3a4975-e8a6-4e9f-d048-8764212071a9"
      },
      "outputs": [
        {
          "output_type": "stream",
          "name": "stdout",
          "text": [
            "Drive already mounted at /content/drive; to attempt to forcibly remount, call drive.mount(\"/content/drive\", force_remount=True).\n",
            "       satisfaction_level  last_evaluation  number_project  \\\n",
            "0                    0.38             0.53               2   \n",
            "1                    0.80             0.86               5   \n",
            "2                    0.11             0.88               7   \n",
            "3                    0.72             0.87               5   \n",
            "4                    0.37             0.52               2   \n",
            "...                   ...              ...             ...   \n",
            "14994                0.40             0.57               2   \n",
            "14995                0.37             0.48               2   \n",
            "14996                0.37             0.53               2   \n",
            "14997                0.11             0.96               6   \n",
            "14998                0.37             0.52               2   \n",
            "\n",
            "       average_montly_hours  time_spend_company  Work_accident  left  \\\n",
            "0                       157                   3              0     1   \n",
            "1                       262                   6              0     1   \n",
            "2                       272                   4              0     1   \n",
            "3                       223                   5              0     1   \n",
            "4                       159                   3              0     1   \n",
            "...                     ...                 ...            ...   ...   \n",
            "14994                   151                   3              0     1   \n",
            "14995                   160                   3              0     1   \n",
            "14996                   143                   3              0     1   \n",
            "14997                   280                   4              0     1   \n",
            "14998                   158                   3              0     1   \n",
            "\n",
            "       promotion_last_5years Department  salary  \n",
            "0                          0      sales     low  \n",
            "1                          0      sales  medium  \n",
            "2                          0      sales  medium  \n",
            "3                          0      sales     low  \n",
            "4                          0      sales     low  \n",
            "...                      ...        ...     ...  \n",
            "14994                      0    support     low  \n",
            "14995                      0    support     low  \n",
            "14996                      0    support     low  \n",
            "14997                      0    support     low  \n",
            "14998                      0    support     low  \n",
            "\n",
            "[14999 rows x 10 columns]\n"
          ]
        }
      ],
      "source": [
        "import pandas as pd\n",
        "import numpy as np\n",
        "import matplotlib.pyplot as plt\n",
        "import seaborn as sns\n",
        "from sklearn.linear_model import LinearRegression\n",
        "from sklearn.model_selection import train_test_split\n",
        "from sklearn.feature_selection import SelectKBest, f_classif, chi2\n",
        "from imblearn.over_sampling import SMOTE\n",
        "from sklearn.linear_model import LogisticRegression\n",
        "from sklearn.metrics import ConfusionMatrixDisplay, accuracy_score\n",
        "os = SMOTE(random_state=0)\n",
        "\n",
        "from google.colab import drive\n",
        "\n",
        "drive.mount('/content/drive')\n",
        "jobs = pd.read_csv('/content/drive/My Drive/Colab Notebooks/HR_jobs_predict.csv')\n",
        "print(jobs)\n"
      ]
    },
    {
      "cell_type": "markdown",
      "source": [
        "Question 1\n",
        "\n",
        "---\n",
        "\n",
        "Describe the Dataset"
      ],
      "metadata": {
        "id": "2Ey5keC6SCwR"
      }
    },
    {
      "cell_type": "markdown",
      "source": [
        "Problem Statement\n",
        "\n",
        "Let's discover which of the variables had a clear and direct impact on employee retention ( meaning what kept or made employees left )\n"
      ],
      "metadata": {
        "id": "NRqC4HhBRbdu"
      }
    },
    {
      "cell_type": "markdown",
      "source": [
        "Data Descrpition\n",
        "\n",
        "The data itself shows employee information such as: Satisfaction, Amount of Projects, Avg Monthly Hours, Time at Company... and many more. All things that can determine the longevity of an employees stay at an company.  "
      ],
      "metadata": {
        "id": "6Okr1J8TRxFb"
      }
    },
    {
      "cell_type": "markdown",
      "source": [
        "Target Variable\n",
        "\n",
        "I am going to go with the left column, which will show us everyone that decided to stay and who decided to leave in the end."
      ],
      "metadata": {
        "id": "NjcvsKDCR03L"
      }
    },
    {
      "cell_type": "markdown",
      "source": [
        "Prediction Goal\n",
        "\n",
        "We will be able to predict which column the company needs to work towards to retain a higher keep of their employees at the company."
      ],
      "metadata": {
        "id": "hTMDZE0XR5xg"
      }
    },
    {
      "cell_type": "markdown",
      "source": [
        "Question 2\n",
        "\n",
        "---\n",
        "\n",
        "Data Cleaning"
      ],
      "metadata": {
        "id": "De0ZXSv1SIJy"
      }
    },
    {
      "cell_type": "markdown",
      "source": [
        "Drop Unneccesary Data"
      ],
      "metadata": {
        "id": "REzwP7OCnMnz"
      }
    },
    {
      "cell_type": "code",
      "source": [
        "jobs = jobs.drop(columns=['Department'])\n",
        "print(jobs)"
      ],
      "metadata": {
        "id": "u277r-krojd7"
      },
      "execution_count": null,
      "outputs": []
    },
    {
      "cell_type": "markdown",
      "source": [
        "Address Missing Data"
      ],
      "metadata": {
        "id": "qN128mWZndtR"
      }
    },
    {
      "cell_type": "code",
      "source": [
        "jobs.columns\n",
        "jobs.dropna()"
      ],
      "metadata": {
        "id": "pB5LKY4cymP7"
      },
      "execution_count": null,
      "outputs": []
    },
    {
      "cell_type": "markdown",
      "source": [
        "Remove Duplicates\n",
        "\n",
        "N/A, data was already semi cleaned, there was not much to do to it"
      ],
      "metadata": {
        "id": "EgqOEc7xng01"
      }
    },
    {
      "cell_type": "markdown",
      "source": [
        "Check Inconsistencies within categorical values\n",
        "\n",
        "N/A, data was already semi cleaned, there was not much to do to it"
      ],
      "metadata": {
        "id": "K75Pep8vnj2E"
      }
    },
    {
      "cell_type": "markdown",
      "source": [
        "Turn categorical values into numerical values"
      ],
      "metadata": {
        "id": "6Mb2wVyVnsuK"
      }
    },
    {
      "cell_type": "code",
      "source": [
        "jobs['salary'] = pd.factorize(jobs['salary'])[0]\n",
        "print(jobs)"
      ],
      "metadata": {
        "id": "cuF8QWc0sG6M"
      },
      "execution_count": null,
      "outputs": []
    },
    {
      "cell_type": "markdown",
      "source": [
        "Create Boxplots / Histograms to check and get rid of outliers"
      ],
      "metadata": {
        "id": "AiUZQJ5inyju"
      }
    },
    {
      "cell_type": "code",
      "source": [
        "df_jobs = jobs.rename(columns={'left': 'target'})\n",
        "df_jobs.info()"
      ],
      "metadata": {
        "id": "n1jclD5RxWWF"
      },
      "execution_count": null,
      "outputs": []
    },
    {
      "cell_type": "code",
      "source": [
        "from re import sub\n",
        "target_value = 'target'\n",
        "nums_list = ['number_project','average_montly_hours','time_spend_company','salary']\n",
        "fig=plt.figure(figsize=(10,8))\n",
        "\n",
        "for i in range(len(nums_list)):\n",
        "  column=nums_list[i]\n",
        "  sub=fig.add_subplot(2,2,i+1)\n",
        "  sns.boxplot(x=df_jobs['target'],y=column,data=jobs, showfliers=False)"
      ],
      "metadata": {
        "id": "_xEYOtIezI1i"
      },
      "execution_count": null,
      "outputs": []
    },
    {
      "cell_type": "markdown",
      "source": [
        "Question 3\n",
        "\n",
        "\n",
        "---\n",
        "\n",
        "Feature Engineering"
      ],
      "metadata": {
        "id": "NHeNcm8j3RWY"
      }
    },
    {
      "cell_type": "markdown",
      "source": [
        "ANOVA"
      ],
      "metadata": {
        "id": "sFONu29q3qGa"
      }
    },
    {
      "cell_type": "code",
      "source": [
        "x = df_jobs.loc[:, ['number_project','average_montly_hours','time_spend_company','salary']]\n",
        "y = df_jobs.loc[:, 'target']\n",
        "\n",
        "fs = SelectKBest(score_func=f_classif, k='all')\n",
        "FeaturesS = fs.fit(x,y)\n",
        "np.set_printoptions(suppress = True )\n",
        "print(FeaturesS.scores_)\n",
        "print(FeaturesS.pvalues_)\n"
      ],
      "metadata": {
        "id": "StamLz3i4N4i"
      },
      "execution_count": null,
      "outputs": []
    },
    {
      "cell_type": "code",
      "source": [
        "print(df_jobs.corr())"
      ],
      "metadata": {
        "id": "JRlzJdXs5_BB"
      },
      "execution_count": null,
      "outputs": []
    },
    {
      "cell_type": "markdown",
      "source": [
        "CHI-SQUARED"
      ],
      "metadata": {
        "id": "PjVdBzgy3tHF"
      }
    },
    {
      "cell_type": "code",
      "source": [
        "x = df_jobs.loc[:, ['number_project','average_montly_hours','time_spend_company','salary']]\n",
        "y = df_jobs.loc[:, 'target']\n",
        "\n",
        "chi = SelectKBest(score_func=chi2, k='all')\n",
        "catFeatures = chi.fit(x, y)\n",
        "print(catFeatures.scores_)\n",
        "print(catFeatures.pvalues_)\n"
      ],
      "metadata": {
        "id": "jXMzQzxN6nl7"
      },
      "execution_count": null,
      "outputs": []
    },
    {
      "cell_type": "markdown",
      "source": [
        "Little to no varianvce\n",
        "\n",
        "---\n",
        "\n",
        "irrelevant variance\n",
        "\n",
        "\n",
        "---\n",
        "\n",
        "highly correlated variance"
      ],
      "metadata": {
        "id": "b1n9CY_T38da"
      }
    },
    {
      "cell_type": "markdown",
      "source": [
        "Question 4\n",
        "\n",
        "---\n",
        "\n",
        "Prediction Model"
      ],
      "metadata": {
        "id": "AvgXBv0GLiAV"
      }
    },
    {
      "cell_type": "code",
      "source": [
        "x = df_jobs.loc[:, ['number_project','average_montly_hours','time_spend_company','salary']]\n",
        "y = df_jobs.loc[:, 'target']\n",
        "\n",
        "x_train, x_test, y_train, y_test = train_test_split(x,y,test_size=0.3,random_state=0, stratify=y)\n",
        "print(x_train.shape)"
      ],
      "metadata": {
        "colab": {
          "base_uri": "https://localhost:8080/"
        },
        "id": "sLdjpeglLt-L",
        "outputId": "8a506db0-8c15-462d-d8d9-36ad4805ddae"
      },
      "execution_count": 15,
      "outputs": [
        {
          "output_type": "stream",
          "name": "stdout",
          "text": [
            "(10499, 4)\n"
          ]
        }
      ]
    },
    {
      "cell_type": "markdown",
      "source": [
        "Logistic Prediction Model"
      ],
      "metadata": {
        "id": "rLQTs4dANd6c"
      }
    },
    {
      "cell_type": "code",
      "source": [
        "oversampled_x,oversampled_y=os.fit_resample(x_train, y_train)\n",
        "print(oversampled_x.shape)"
      ],
      "metadata": {
        "colab": {
          "base_uri": "https://localhost:8080/"
        },
        "id": "6aLoS4_lNcOW",
        "outputId": "c26c2f23-32fb-4202-9f95-cf82f55d3ec9"
      },
      "execution_count": 16,
      "outputs": [
        {
          "output_type": "stream",
          "name": "stdout",
          "text": [
            "(15998, 4)\n"
          ]
        }
      ]
    },
    {
      "cell_type": "code",
      "source": [
        "regression = LogisticRegression(penalty='none', max_iter=2000)\n",
        "regression.fit(oversampled_x, oversampled_y.values.ravel())\n",
        "\n",
        "test_pred = regression.predict(x_test)\n",
        "accuracy_score(y_test, test_pred)"
      ],
      "metadata": {
        "colab": {
          "base_uri": "https://localhost:8080/"
        },
        "id": "LtFTuRkEOg0F",
        "outputId": "36a1bbc5-0e5a-4d59-a47e-62b6a69c6ad1"
      },
      "execution_count": 22,
      "outputs": [
        {
          "output_type": "stream",
          "name": "stderr",
          "text": [
            "/usr/local/lib/python3.10/dist-packages/sklearn/linear_model/_logistic.py:1173: FutureWarning: `penalty='none'`has been deprecated in 1.2 and will be removed in 1.4. To keep the past behaviour, set `penalty=None`.\n",
            "  warnings.warn(\n"
          ]
        },
        {
          "output_type": "execute_result",
          "data": {
            "text/plain": [
              "0.6042222222222222"
            ]
          },
          "metadata": {},
          "execution_count": 22
        }
      ]
    }
  ]
}